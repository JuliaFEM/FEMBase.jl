{
 "cells": [
  {
   "cell_type": "markdown",
   "metadata": {},
   "source": [
    "# Developing new input/output interfaces\n",
    "\n",
    "E.g. mesh reader or results writer."
   ]
  },
  {
   "cell_type": "code",
   "execution_count": null,
   "metadata": {
    "collapsed": true
   },
   "outputs": [],
   "source": [
    "type MeshReader <: AbstractMeshReader\n",
    "end\n",
    "\n",
    "\"\"\"\n",
    "    read_mesh(mesh::MeshReader, data)\n",
    "\n",
    "Reads mesh from disk/memory/cloud/sql/etc. and returns Mesh object\n",
    "\"\"\"\n",
    "function read_mesh(mesh::MeshReader, filename::String)\n",
    "    # do something ...\n",
    "end"
   ]
  },
  {
   "cell_type": "code",
   "execution_count": null,
   "metadata": {
    "collapsed": true
   },
   "outputs": [],
   "source": [
    "type ResultsWriter <: AbstractResultsWriter\n",
    "end\n",
    "\n",
    "\"\"\"\n",
    "    write_results!(results::ResultsWriter, data)\n",
    "\n",
    "Given data, write calculation results back to disk/memory/cloud/sql/etc.\n",
    "\"\"\"\n",
    "function write_results!(results::ResultsWriter, data)\n",
    "    # write results ...\n",
    "end"
   ]
  },
  {
   "cell_type": "markdown",
   "metadata": {},
   "source": [
    "# Developing new physical models\n",
    "\n",
    "Starting point is a weak formulation, which is then discretized to elements."
   ]
  },
  {
   "cell_type": "code",
   "execution_count": null,
   "metadata": {
    "collapsed": true
   },
   "outputs": [],
   "source": [
    "type Heat <: AbstractProblem\n",
    "end\n",
    "\n",
    "\"\"\"\n",
    "    assemble!(settings::Heat, problem::Problem, assembly::Assembly, elements::Vector{Element}, time::Float64)\n",
    "\n",
    "Given `problem` spesification, assemble `elements` to global stiffness matrix and force\n",
    "vector defined in `assembly` for some given `time`.\n",
    "\"\"\"\n",
    "function assemble!(settings::Heat, problem::Problem, assembly::Assembly,\n",
    "                   elements::Vector{Element}, time::Float64)\n",
    "    # integrate local matrices and add them to assembly\n",
    "end"
   ]
  },
  {
   "cell_type": "markdown",
   "metadata": {},
   "source": [
    "# Developing new material model\n",
    "\n",
    "Aim is to define material response given data."
   ]
  },
  {
   "cell_type": "code",
   "execution_count": null,
   "metadata": {
    "collapsed": true
   },
   "outputs": [],
   "source": [
    "type LinearIsotropic <: AbstractMaterial\n",
    "end\n",
    "\n",
    "\"\"\"\n",
    "    calculate_material_response!(material::LinearIsotropic, data)\n",
    "\n",
    "Given strain tensor and some other quantities, calculate material response\n",
    "\"\"\"\n",
    "function calculate_response!(material::LinearIsotropic, data)\n",
    "    # given strain tensor and some other quantities, calculate stress\n",
    "end"
   ]
  },
  {
   "cell_type": "markdown",
   "metadata": {},
   "source": [
    "# Developing new interpolation functions\n",
    "\n",
    "E.g. basis functions"
   ]
  },
  {
   "cell_type": "code",
   "execution_count": null,
   "metadata": {
    "collapsed": true
   },
   "outputs": [],
   "source": [
    "type LinQuad4Basis <: AbstractBasis\n",
    "end\n",
    "\n",
    "\"\"\"\n",
    "    evaluate_basis!(basis::LinQuad4Basis, element::Element, xi, time, N::Matrix{Float64})\n",
    "\n",
    "Evaluate basis functions at some point $\\xi$ and store results to `N`.\n",
    "\"\"\"\n",
    "function evaluate_basis!(basis::LinQuad4Basis, element::Element, xi, time, N::Matrix{Float64})\n",
    "    # populate N with new basis\n",
    "end"
   ]
  },
  {
   "cell_type": "markdown",
   "metadata": {},
   "source": [
    "# Developing new integration rules"
   ]
  },
  {
   "cell_type": "code",
   "execution_count": null,
   "metadata": {
    "collapsed": true
   },
   "outputs": [],
   "source": [
    "type Quad4PointGaussLegendre <: AbstractIntegrationRule\n",
    "end\n",
    "\n",
    "\"\"\"\n",
    "    get_integration_points(q::Quad4PointQaussLegendre)\n",
    "\n",
    "Return integration point locations and weights.\n",
    "\"\"\"\n",
    "function get_integration_points(q::Quad4PointGaussLegendre)\n",
    "    # return integration points\n",
    "end"
   ]
  },
  {
   "cell_type": "markdown",
   "metadata": {},
   "source": [
    "# Developing new solver"
   ]
  },
  {
   "cell_type": "code",
   "execution_count": null,
   "metadata": {
    "collapsed": true
   },
   "outputs": [],
   "source": [
    "type ImplicitTimeSolver <: AbstractSolver\n",
    "end\n",
    "\n",
    "\"\"\"\n",
    "    solve!(settings::ImplicitTimeSolver, solver::Solver, time)\n",
    "\n",
    "Assemble problems, solve problem, update problems, write results and so on.\n",
    "\"\"\"\n",
    "function solve!(settings::ImplicitTimeSolver, solver::Solver, time)\n",
    "    # do solution\n",
    "end"
   ]
  },
  {
   "cell_type": "markdown",
   "metadata": {},
   "source": [
    "# Developing new fields"
   ]
  },
  {
   "cell_type": "code",
   "execution_count": null,
   "metadata": {
    "collapsed": true
   },
   "outputs": [],
   "source": [
    "type RandomField <: AbstractField\n",
    "end\n",
    "\n",
    "is_constant(r::RandomField) = false\n",
    "is_discrete(r::RandomField) = true\n",
    "is_time_invariant(r::RandomField) = false\n",
    "\n"
   ]
  }
 ],
 "metadata": {
  "kernelspec": {
   "display_name": "Julia 0.6.0",
   "language": "julia",
   "name": "julia-0.6"
  },
  "language_info": {
   "file_extension": ".jl",
   "mimetype": "application/julia",
   "name": "julia",
   "version": "0.6.0"
  }
 },
 "nbformat": 4,
 "nbformat_minor": 2
}
