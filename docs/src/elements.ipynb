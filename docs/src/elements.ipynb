{
 "cells": [
  {
   "cell_type": "markdown",
   "metadata": {},
   "source": [
    "In JuliaFEM, elements are \"containers\", combining fields and basis functions described above. Among that, element has information about topology (connectivity) and integration rule. These fundamentals forms a finite element, the backbone of finite element method, as the basic idea after all is just to discretize continuous domain to smaller topological entities like tetrahedrons and perform same operations to each element."
   ]
  },
  {
   "cell_type": "code",
   "execution_count": 51,
   "metadata": {},
   "outputs": [],
   "source": [
    "using FEMBase"
   ]
  },
  {
   "cell_type": "code",
   "execution_count": 2,
   "metadata": {},
   "outputs": [
    {
     "data": {
      "text/plain": [
       "FEMBase.Element{FEMBasis.Quad4}(-1, [1, 2, 3, 4], FEMBase.Point{FEMBase.IntegrationPoint}[], Dict{String,FEMBase.AbstractField}(), FEMBasis.Quad4())"
      ]
     },
     "execution_count": 2,
     "metadata": {},
     "output_type": "execute_result"
    }
   ],
   "source": [
    "el = Element(Quad4, [1, 2, 3, 4])"
   ]
  },
  {
   "cell_type": "markdown",
   "metadata": {},
   "source": [
    "Setting fields to element is done using a command `update!`, which either creates new field if does not already exist, or updates the old one. Typically, at least field called `geometry` needs to be defined to element as it's used to calculate Jacobian of element. Fields can be discrete, continuous, time invariant or variant, variable or constant, like described earlier."
   ]
  },
  {
   "cell_type": "code",
   "execution_count": 3,
   "metadata": {},
   "outputs": [
    {
     "data": {
      "text/plain": [
       "FEMBase.DVTId{Array{Float64,1}}(Dict(4=>[0.0, 1.0],2=>[1.0, 0.0],3=>[1.0, 1.0],1=>[0.0, 0.0]))"
      ]
     },
     "execution_count": 3,
     "metadata": {},
     "output_type": "execute_result"
    }
   ],
   "source": [
    "X = Dict(1 => [0.0,0.0], 2=>[1.0,0.0], 3=>[1.0,1.0], 4=>[0.0,1.0])\n",
    "update!(el, \"geometry\", X)"
   ]
  },
  {
   "cell_type": "code",
   "execution_count": 5,
   "metadata": {},
   "outputs": [
    {
     "data": {
      "text/plain": [
       "Dict{String,FEMBase.AbstractField} with 1 entry:\n",
       "  \"geometry\" => FEMBase.DVTId{Array{Float64,1}}(Dict(4=>[0.0, 1.0],2=>[1.0, 0.0…"
      ]
     },
     "execution_count": 5,
     "metadata": {},
     "output_type": "execute_result"
    }
   ],
   "source": [
    "el.fields"
   ]
  },
  {
   "cell_type": "code",
   "execution_count": 6,
   "metadata": {},
   "outputs": [
    {
     "data": {
      "text/plain": [
       "Dict{String,FEMBase.AbstractField} with 2 entries:\n",
       "  \"geometry\"     => FEMBase.DVTId{Array{Float64,1}}(Dict(4=>[0.0, 1.0],2=>[1.0,…\n",
       "  \"displacement\" => FEMBase.DVTV{4,Array{Float64,1}}(Pair{Float64,NTuple{4,Arra…"
      ]
     },
     "execution_count": 6,
     "metadata": {},
     "output_type": "execute_result"
    }
   ],
   "source": [
    "u0 = ([0.0,0.0], [0.0,0.0], [0.0,0.0], [0.0,0.0])\n",
    "u1 = ([0.0,0.0], [0.0,0.0], [0.5,0.0], [0.0,0.0])\n",
    "update!(el, \"displacement\", 0.0 => u0)\n",
    "update!(el, \"displacement\", 1.0 => u1)\n",
    "el.fields"
   ]
  },
  {
   "cell_type": "markdown",
   "metadata": {},
   "source": [
    "Interpolating of fields goes calling `Element(field_name, xi, time)`. For example, position of material particle $X$ in initial configuration and deformed configuration in the middle of the element at time $t=1$ can be found as"
   ]
  },
  {
   "cell_type": "code",
   "execution_count": 8,
   "metadata": {},
   "outputs": [
    {
     "name": "stdout",
     "output_type": "stream",
     "text": [
      "X = [0.5, 0.5], x = [0.625, 0.5]\n"
     ]
    }
   ],
   "source": [
    "xi = (0.0, 0.0)\n",
    "time = 1.0\n",
    "X = el(\"geometry\", xi, time)\n",
    "u = el(\"displacement\", xi, time)\n",
    "x = X+u\n",
    "println(\"X = $X, x = $x\")"
   ]
  },
  {
   "cell_type": "markdown",
   "metadata": {},
   "source": [
    "Jacobian, determinant of Jacobian and gradient of field can be calculated adding extra argument `Val{:Jacobian}`, `Val{:detJ}`, `Val{:Grad}` to the above command and not passing field name, i.e."
   ]
  },
  {
   "cell_type": "code",
   "execution_count": 9,
   "metadata": {},
   "outputs": [
    {
     "data": {
      "text/plain": [
       "2×2 Array{Float64,2}:\n",
       " 0.5  0.0\n",
       " 0.0  0.5"
      ]
     },
     "execution_count": 9,
     "metadata": {},
     "output_type": "execute_result"
    }
   ],
   "source": [
    "el(xi, time, Val{:Jacobian})"
   ]
  },
  {
   "cell_type": "code",
   "execution_count": 10,
   "metadata": {},
   "outputs": [
    {
     "data": {
      "text/plain": [
       "0.25"
      ]
     },
     "execution_count": 10,
     "metadata": {},
     "output_type": "execute_result"
    }
   ],
   "source": [
    "el(xi, time, Val{:detJ})"
   ]
  },
  {
   "cell_type": "code",
   "execution_count": 11,
   "metadata": {},
   "outputs": [
    {
     "data": {
      "text/plain": [
       "2×4 Array{Float64,2}:\n",
       " -0.5   0.5  0.5  -0.5\n",
       " -0.5  -0.5  0.5   0.5"
      ]
     },
     "execution_count": 11,
     "metadata": {},
     "output_type": "execute_result"
    }
   ],
   "source": [
    "el(xi, time, Val{:Grad})"
   ]
  },
  {
   "cell_type": "markdown",
   "metadata": {},
   "source": [
    "Usually what the user wants is still a gradient of some field. For example, displacement gradient:"
   ]
  },
  {
   "cell_type": "code",
   "execution_count": 13,
   "metadata": {},
   "outputs": [
    {
     "data": {
      "text/plain": [
       "2×2 Array{Float64,2}:\n",
       " 0.25  0.25\n",
       " 0.0   0.0 "
      ]
     },
     "execution_count": 13,
     "metadata": {},
     "output_type": "execute_result"
    }
   ],
   "source": [
    "gradu = el(\"displacement\", xi, time, Val{:Grad})\n",
    "gradu"
   ]
  },
  {
   "cell_type": "markdown",
   "metadata": {},
   "source": [
    "Or temperature gradient:"
   ]
  },
  {
   "cell_type": "code",
   "execution_count": 16,
   "metadata": {},
   "outputs": [
    {
     "data": {
      "text/plain": [
       "1×2 RowVector{Float64,Array{Float64,1}}:\n",
       " 0.0  2.0"
      ]
     },
     "execution_count": 16,
     "metadata": {},
     "output_type": "execute_result"
    }
   ],
   "source": [
    "update!(el, \"temperature\", (1.0, 2.0, 3.0, 4.0))\n",
    "gradT = el(\"temperature\", xi, time, Val{:Grad})"
   ]
  },
  {
   "cell_type": "markdown",
   "metadata": {},
   "source": [
    "Accessing integration points of element is done using command `get_integration_points`. Combining interpolation and integration one can already calculate local matrices of a single element or, for example area and strain energy:"
   ]
  },
  {
   "cell_type": "code",
   "execution_count": 48,
   "metadata": {},
   "outputs": [
    {
     "name": "stdout",
     "output_type": "stream",
     "text": [
      "Area: 1.0\n",
      "Strain energy: 10.0\n"
     ]
    }
   ],
   "source": [
    "update!(el, \"lambda\", 96.0)\n",
    "update!(el, \"mu\", 48.0)\n",
    "\n",
    "A = 0.0\n",
    "W = 0.0\n",
    "for ip in get_integration_points(el)\n",
    "    detJ = el(ip, time, Val{:detJ})\n",
    "    A += ip.weight * detJ\n",
    "    ∇u = el(\"displacement\", ip, time, Val{:Grad})\n",
    "    E = 1/2*(∇u + ∇u')\n",
    "    λ = el(\"lambda\", ip, time)\n",
    "    μ = el(\"mu\", ip, time)\n",
    "    W += ip.weight * ( λ/2*trace(E*E') + μ*trace(E)^2) * detJ\n",
    "end\n",
    "\n",
    "println(\"Area: $A\")\n",
    "println(\"Strain energy: $W\")"
   ]
  },
  {
   "cell_type": "markdown",
   "metadata": {},
   "source": [
    "Local stiffness matrix for Poisson problem:"
   ]
  },
  {
   "cell_type": "code",
   "execution_count": 50,
   "metadata": {},
   "outputs": [
    {
     "data": {
      "text/plain": [
       "4×4 Array{Float64,2}:\n",
       "  24.0   -6.0  -12.0   -6.0\n",
       "  -6.0   24.0   -6.0  -12.0\n",
       " -12.0   -6.0   24.0   -6.0\n",
       "  -6.0  -12.0   -6.0   24.0"
      ]
     },
     "execution_count": 50,
     "metadata": {},
     "output_type": "execute_result"
    }
   ],
   "source": [
    "K = zeros(4,4)\n",
    "update!(el, \"coefficient\", 36.0)\n",
    "for ip in get_integration_points(el)\n",
    "    dN = el(ip, time, Val{:Grad})\n",
    "    detJ = el(ip, time, Val{:detJ})\n",
    "    c = el(\"coefficient\", ip, time)\n",
    "    K += ip.weight * c*dN'*dN * detJ\n",
    "end\n",
    "K"
   ]
  }
 ],
 "metadata": {
  "kernelspec": {
   "display_name": "Julia 0.6.2",
   "language": "julia",
   "name": "julia-0.6"
  },
  "language_info": {
   "file_extension": ".jl",
   "mimetype": "application/julia",
   "name": "julia",
   "version": "0.6.2"
  }
 },
 "nbformat": 4,
 "nbformat_minor": 2
}
