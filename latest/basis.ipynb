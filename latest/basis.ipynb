{
 "cells": [
  {
   "cell_type": "markdown",
   "metadata": {},
   "source": [
    "# Shape functions\n",
    "\n",
    "Also known as basis functions, interpolation polynomials and so on. Typically unknown field variable is interpolated from element nodal values using continuous functions. That is, \n",
    "\n",
    "Standard Lagrange polynomials as supported.\n",
    "\n",
    "Linear shape functions:\n",
    "- Seg2\n",
    "- Tri3\n",
    "- Quad4\n",
    "- Tet4\n",
    "- Pyr5\n",
    "- Wedge6\n",
    "- Hex8\n",
    "\n",
    "Quadratic and biquadratic shape functions:\n",
    "- Seg3\n",
    "- Tri6, Tri7\n",
    "- Quad8, Quad9\n",
    "- Tet10\n",
    "- Wedge15\n",
    "- Hex20, Hex27\n",
    "\n",
    "NURBS shape functions:\n",
    "- NSeg\n",
    "- NSurf\n",
    "- NSolid"
   ]
  },
  {
   "cell_type": "markdown",
   "metadata": {},
   "source": [
    "Evaluating basis and derivative of basis functions with respect to dimensionless coordinates:"
   ]
  },
  {
   "cell_type": "code",
   "execution_count": 2,
   "metadata": {},
   "outputs": [
    {
     "data": {
      "text/plain": [
       "FEMBasis.Quad4()"
      ]
     },
     "execution_count": 2,
     "metadata": {},
     "output_type": "execute_result"
    }
   ],
   "source": [
    "using FEMBase\n",
    "using FEMBase.FEMBasis: eval_dbasis!, jacobian, grad, interpolate,\n",
    "                        get_reference_element_coordinates, create_basis\n",
    "B = Quad4()"
   ]
  },
  {
   "cell_type": "code",
   "execution_count": 3,
   "metadata": {},
   "outputs": [
    {
     "data": {
      "text/plain": [
       "4"
      ]
     },
     "execution_count": 3,
     "metadata": {},
     "output_type": "execute_result"
    }
   ],
   "source": [
    "length(B)"
   ]
  },
  {
   "cell_type": "code",
   "execution_count": 4,
   "metadata": {},
   "outputs": [
    {
     "data": {
      "text/plain": [
       "(2, 4)"
      ]
     },
     "execution_count": 4,
     "metadata": {},
     "output_type": "execute_result"
    }
   ],
   "source": [
    "size(B)"
   ]
  },
  {
   "cell_type": "markdown",
   "metadata": {},
   "source": [
    "For fast evaluations, one must allocate array outside of the hot loops to get speed."
   ]
  },
  {
   "cell_type": "code",
   "execution_count": 5,
   "metadata": {},
   "outputs": [
    {
     "data": {
      "text/plain": [
       "(0.0, 0.0)"
      ]
     },
     "execution_count": 5,
     "metadata": {},
     "output_type": "execute_result"
    }
   ],
   "source": [
    "N = zeros(1, 4)\n",
    "dN = zeros(2, 4)\n",
    "xi = (0.0, 0.0)"
   ]
  },
  {
   "cell_type": "code",
   "execution_count": 6,
   "metadata": {},
   "outputs": [
    {
     "data": {
      "text/plain": [
       "1×4 Array{Float64,2}:\n",
       " 0.25  0.25  0.25  0.25"
      ]
     },
     "execution_count": 6,
     "metadata": {},
     "output_type": "execute_result"
    }
   ],
   "source": [
    "eval_basis!(B, N, xi)"
   ]
  },
  {
   "cell_type": "code",
   "execution_count": 7,
   "metadata": {},
   "outputs": [
    {
     "data": {
      "text/plain": [
       "2×4 Array{Float64,2}:\n",
       " -0.25   0.25  0.25  -0.25\n",
       " -0.25  -0.25  0.25   0.25"
      ]
     },
     "execution_count": 7,
     "metadata": {},
     "output_type": "execute_result"
    }
   ],
   "source": [
    "eval_dbasis!(B, dN, xi)"
   ]
  },
  {
   "cell_type": "markdown",
   "metadata": {},
   "source": [
    "For Langrange interpolation polynomials, by definition, on each node shape function corresponding to that node gets value of 1 and the rest is zero. Node ordering follows the same defined in e.g. in ABAQUS and in many other FEM softwares."
   ]
  },
  {
   "cell_type": "code",
   "execution_count": 8,
   "metadata": {},
   "outputs": [
    {
     "data": {
      "text/plain": [
       "((-1.0, -1.0), (1.0, -1.0), (1.0, 1.0), (-1.0, 1.0))"
      ]
     },
     "execution_count": 8,
     "metadata": {},
     "output_type": "execute_result"
    }
   ],
   "source": [
    "get_reference_element_coordinates(Quad4)"
   ]
  },
  {
   "cell_type": "code",
   "execution_count": 9,
   "metadata": {},
   "outputs": [
    {
     "name": "stdout",
     "output_type": "stream",
     "text": [
      "[1.0 0.0 0.0 0.0] at (-1.0, -1.0)\n",
      "[0.0 1.0 0.0 0.0] at (1.0, -1.0)\n",
      "[0.0 0.0 1.0 0.0] at (1.0, 1.0)\n",
      "[0.0 0.0 0.0 1.0] at (-1.0, 1.0)\n"
     ]
    }
   ],
   "source": [
    "for xi in get_reference_element_coordinates(Quad4)\n",
    "    eval_basis!(B, N, xi)\n",
    "    println(\"$N at $xi\")\n",
    "end"
   ]
  },
  {
   "cell_type": "markdown",
   "metadata": {
    "collapsed": true
   },
   "source": [
    "## Mathematics\n",
    "\n",
    "Without knowing anything about the real shape of domain, `eval_dbasis!` is calculating gradient with respect to dimensionless coordinates $\\xi_i$, i.e.\n",
    "\n",
    "\\begin{equation}\n",
    "\\frac{\\partial\\boldsymbol{N}}{\\partial\\boldsymbol{\\xi}}=\\left[\\begin{array}{cccc}\n",
    "\\frac{\\partial N_{1}}{\\partial\\xi_{1}} & \\frac{\\partial N_{2}}{\\partial\\xi_{1}} & \\cdots & \\frac{\\partial N_{n}}{\\partial\\xi_{1}}\\\\\n",
    "\\frac{\\partial N_{1}}{\\partial\\xi_{2}} & \\frac{\\partial N_{2}}{\\partial\\xi_{2}} & \\cdots & \\frac{\\partial N_{n}}{\\partial\\xi_{2}}\\\\\n",
    "\\frac{\\partial N_{1}}{\\partial\\xi_{3}} & \\frac{\\partial N_{2}}{\\partial\\xi_{3}} & \\cdots & \\frac{\\partial N_{n}}{\\partial\\xi_{3}}\n",
    "\\end{array}\\right]\n",
    "\\end{equation}\n",
    "\n",
    "Usually this is not wanted, but instead gradient of basis functions is calculated with respect to natural coordinates $X_i$,\n",
    "\n",
    "\\begin{equation}\n",
    "\\frac{\\partial\\boldsymbol{N}}{\\partial\\boldsymbol{X}}=\\left[\\begin{array}{cccc}\n",
    "\\frac{\\partial N_{1}}{\\partial X_{1}} & \\frac{\\partial N_{2}}{\\partial X_{1}} & \\cdots & \\frac{\\partial N_{n}}{\\partial X_{1}}\\\\\n",
    "\\frac{\\partial N_{1}}{\\partial X_{2}} & \\frac{\\partial N_{2}}{\\partial X_{2}} & \\cdots & \\frac{\\partial N_{n}}{\\partial X_{2}}\\\\\n",
    "\\frac{\\partial N_{1}}{\\partial X_{3}} & \\frac{\\partial N_{2}}{\\partial X_{3}} & \\cdots & \\frac{\\partial N_{n}}{\\partial X_{3}}\n",
    "\\end{array}\\right]\n",
    "\\end{equation}\n",
    "\n",
    "To get this, inverse of Jacobian matrix is needed."
   ]
  },
  {
   "cell_type": "code",
   "execution_count": 10,
   "metadata": {},
   "outputs": [
    {
     "data": {
      "text/plain": [
       "2×2 Array{Float64,2}:\n",
       " 0.5  0.0\n",
       " 0.0  0.5"
      ]
     },
     "execution_count": 10,
     "metadata": {},
     "output_type": "execute_result"
    }
   ],
   "source": [
    "X = ([0.0, 0.0], [1.0, 0.0], [1.0, 1.0], [0.0, 1.0])\n",
    "xi = (0.0, 0.0)\n",
    "J = jacobian(B, X, xi)"
   ]
  },
  {
   "cell_type": "code",
   "execution_count": 11,
   "metadata": {},
   "outputs": [
    {
     "data": {
      "text/plain": [
       "2×4 Array{Float64,2}:\n",
       " -0.5   0.5  0.5  -0.5\n",
       " -0.5  -0.5  0.5   0.5"
      ]
     },
     "execution_count": 11,
     "metadata": {},
     "output_type": "execute_result"
    }
   ],
   "source": [
    "inv(J) * dN"
   ]
  },
  {
   "cell_type": "markdown",
   "metadata": {},
   "source": [
    "Or directly:"
   ]
  },
  {
   "cell_type": "code",
   "execution_count": 12,
   "metadata": {},
   "outputs": [
    {
     "data": {
      "text/plain": [
       "2×4 Array{Float64,2}:\n",
       " -0.5   0.5  0.5  -0.5\n",
       " -0.5  -0.5  0.5   0.5"
      ]
     },
     "execution_count": 12,
     "metadata": {},
     "output_type": "execute_result"
    }
   ],
   "source": [
    "dNdX = grad(B, X, xi)"
   ]
  },
  {
   "cell_type": "markdown",
   "metadata": {},
   "source": [
    "If interpolation domain is manifold, Jacobian is not square and inverse cannot be taken."
   ]
  },
  {
   "cell_type": "code",
   "execution_count": 13,
   "metadata": {},
   "outputs": [
    {
     "data": {
      "text/plain": [
       "2×3 Array{Float64,2}:\n",
       " 0.5  0.0  0.5\n",
       " 0.0  0.5  0.0"
      ]
     },
     "execution_count": 13,
     "metadata": {},
     "output_type": "execute_result"
    }
   ],
   "source": [
    "X2 = ([0.0,0.0,0.0], [1.0, 0.0,1.0], [1.0,1.0,1.0], [0.0,1.0,0.0])\n",
    "xi = (0.0, 0.0)\n",
    "J = jacobian(B, X2, xi)"
   ]
  },
  {
   "cell_type": "markdown",
   "metadata": {},
   "source": [
    "One can use Jacobian to calculate [surface integral](https://en.wikipedia.org/wiki/Surface_integral):\n",
    "\n",
    "\\begin{equation}\n",
    "\\iint_{S}f\\,\\mathrm{d}\\Sigma=\\iint_{T}f\\left(\\boldsymbol{x}\\left(s,t\\right)\\right)\\left\\Vert \\frac{\\partial\\boldsymbol{x}}{\\partial s}\\times\\frac{\\partial\\boldsymbol{x}}{\\partial t}\\right\\Vert \\,\\mathrm{d}s\\mathrm{d}t\n",
    "\\end{equation}"
   ]
  },
  {
   "cell_type": "code",
   "execution_count": 14,
   "metadata": {},
   "outputs": [
    {
     "data": {
      "text/plain": [
       "(1.4142135623730951, 1.4142135623730951)"
      ]
     },
     "execution_count": 14,
     "metadata": {},
     "output_type": "execute_result"
    }
   ],
   "source": [
    "4*norm(cross(J[1,:], J[2,:])), sqrt(2) # area of manifold"
   ]
  },
  {
   "cell_type": "markdown",
   "metadata": {},
   "source": [
    "Gradient of e.g. displacement field or temperature field can be also evaluated:"
   ]
  },
  {
   "cell_type": "code",
   "execution_count": 15,
   "metadata": {},
   "outputs": [
    {
     "data": {
      "text/plain": [
       "2×2 Array{Float64,2}:\n",
       " 1.5  0.5\n",
       " 1.0  2.0"
      ]
     },
     "execution_count": 15,
     "metadata": {},
     "output_type": "execute_result"
    }
   ],
   "source": [
    "u = ([0.0, 0.0], [1.0, -1.0], [2.0, 3.0], [0.0, 0.0])\n",
    "T = (1.0, 2.0, 3.0, 4.0)\n",
    "grad(B, u, X, xi)"
   ]
  },
  {
   "cell_type": "code",
   "execution_count": 16,
   "metadata": {},
   "outputs": [
    {
     "data": {
      "text/plain": [
       "1×2 RowVector{Float64,Array{Float64,1}}:\n",
       " 0.0  2.0"
      ]
     },
     "execution_count": 16,
     "metadata": {},
     "output_type": "execute_result"
    }
   ],
   "source": [
    "grad(B, T, X, xi)"
   ]
  },
  {
   "cell_type": "markdown",
   "metadata": {},
   "source": [
    "One can interpolate fields using basis:"
   ]
  },
  {
   "cell_type": "code",
   "execution_count": 17,
   "metadata": {},
   "outputs": [
    {
     "data": {
      "text/plain": [
       "2-element Array{Float64,1}:\n",
       " 0.75\n",
       " 0.5 "
      ]
     },
     "execution_count": 17,
     "metadata": {},
     "output_type": "execute_result"
    }
   ],
   "source": [
    "interpolate(B, u, xi)"
   ]
  },
  {
   "cell_type": "code",
   "execution_count": 18,
   "metadata": {},
   "outputs": [
    {
     "data": {
      "text/plain": [
       "2.5"
      ]
     },
     "execution_count": 18,
     "metadata": {},
     "output_type": "execute_result"
    }
   ],
   "source": [
    "interpolate(B, T, xi)"
   ]
  },
  {
   "cell_type": "markdown",
   "metadata": {},
   "source": [
    "At last to avoid unnecessary memory allocations, a struct `BasisInfo` is introduced, containing memory space for calculations."
   ]
  },
  {
   "cell_type": "code",
   "execution_count": 19,
   "metadata": {},
   "outputs": [
    {
     "data": {
      "text/plain": [
       "FEMBasis.BasisInfo{FEMBasis.Quad4,Float64}([0.25 0.25 0.25 0.25], [-0.25 0.25 0.25 -0.25; -0.25 -0.25 0.25 0.25], [-0.5 0.5 0.5 -0.5; -0.5 -0.5 0.5 0.5], [0.5 0.0; 0.0 0.5], [2.0 -0.0; -0.0 2.0], 0.25)"
      ]
     },
     "execution_count": 19,
     "metadata": {},
     "output_type": "execute_result"
    }
   ],
   "source": [
    "bi = BasisInfo(Quad4)\n",
    "eval_basis!(bi, X, xi)"
   ]
  },
  {
   "cell_type": "code",
   "execution_count": 20,
   "metadata": {},
   "outputs": [
    {
     "data": {
      "text/plain": [
       "2×2 Array{Float64,2}:\n",
       " 0.5  0.0\n",
       " 0.0  0.5"
      ]
     },
     "execution_count": 20,
     "metadata": {},
     "output_type": "execute_result"
    }
   ],
   "source": [
    "bi.J"
   ]
  },
  {
   "cell_type": "code",
   "execution_count": 21,
   "metadata": {},
   "outputs": [
    {
     "data": {
      "text/plain": [
       "1×4 Array{Float64,2}:\n",
       " 0.25  0.25  0.25  0.25"
      ]
     },
     "execution_count": 21,
     "metadata": {},
     "output_type": "execute_result"
    }
   ],
   "source": [
    "bi.N"
   ]
  },
  {
   "cell_type": "code",
   "execution_count": 22,
   "metadata": {},
   "outputs": [
    {
     "data": {
      "text/plain": [
       "2×4 Array{Float64,2}:\n",
       " -0.25   0.25  0.25  -0.25\n",
       " -0.25  -0.25  0.25   0.25"
      ]
     },
     "execution_count": 22,
     "metadata": {},
     "output_type": "execute_result"
    }
   ],
   "source": [
    "bi.dN"
   ]
  },
  {
   "cell_type": "code",
   "execution_count": 23,
   "metadata": {},
   "outputs": [
    {
     "data": {
      "text/plain": [
       "0.25"
      ]
     },
     "execution_count": 23,
     "metadata": {},
     "output_type": "execute_result"
    }
   ],
   "source": [
    "bi.detJ"
   ]
  },
  {
   "cell_type": "code",
   "execution_count": 24,
   "metadata": {},
   "outputs": [
    {
     "data": {
      "text/plain": [
       "2×4 Array{Float64,2}:\n",
       " -0.5   0.5  0.5  -0.5\n",
       " -0.5  -0.5  0.5   0.5"
      ]
     },
     "execution_count": 24,
     "metadata": {},
     "output_type": "execute_result"
    }
   ],
   "source": [
    "bi.grad"
   ]
  },
  {
   "cell_type": "code",
   "execution_count": 25,
   "metadata": {},
   "outputs": [
    {
     "data": {
      "text/plain": [
       "2×2 Array{Float64,2}:\n",
       "  2.0  -0.0\n",
       " -0.0   2.0"
      ]
     },
     "execution_count": 25,
     "metadata": {},
     "output_type": "execute_result"
    }
   ],
   "source": [
    "bi.invJ"
   ]
  },
  {
   "cell_type": "code",
   "execution_count": 26,
   "metadata": {},
   "outputs": [
    {
     "data": {
      "text/plain": [
       "2×2 Array{Float64,2}:\n",
       " 1.5  0.5\n",
       " 1.0  2.0"
      ]
     },
     "execution_count": 26,
     "metadata": {},
     "output_type": "execute_result"
    }
   ],
   "source": [
    "gradu = zeros(2, 2)\n",
    "grad!(bi, gradu, u)"
   ]
  },
  {
   "cell_type": "markdown",
   "metadata": {},
   "source": [
    "## Defining custom shape functions\n",
    "\n",
    "Depending from the type of shape functions, they can be created more or less automatic way. For Lagrange type interpolation, ones needs only to define polynomial and corner points for domain. For example, if domain is $[0,1]^2$, one can use `create_basis`:"
   ]
  },
  {
   "cell_type": "code",
   "execution_count": 27,
   "metadata": {
    "collapsed": true
   },
   "outputs": [],
   "source": [
    "code = create_basis(\n",
    "    :MyQuad,\n",
    "    \"My special domain\",\n",
    "    (\n",
    "        (0.0, 0.0),\n",
    "        (1.0, 0.0),\n",
    "        (1.0, 1.0),\n",
    "        (0.0, 1.0),\n",
    "    ),\n",
    "    \"1 + u + v + u*v\"\n",
    ")\n",
    "eval(code)"
   ]
  },
  {
   "cell_type": "code",
   "execution_count": 28,
   "metadata": {},
   "outputs": [
    {
     "data": {
      "text/plain": [
       "1×4 Array{Float64,2}:\n",
       " 0.25  0.25  0.25  0.25"
      ]
     },
     "execution_count": 28,
     "metadata": {},
     "output_type": "execute_result"
    }
   ],
   "source": [
    "B = MyQuad()\n",
    "xi = (0.5, 0.5)\n",
    "eval_basis!(B, N, xi)"
   ]
  },
  {
   "cell_type": "markdown",
   "metadata": {},
   "source": [
    "In this case partial derivatives of shape functions are with respect to $X$, because interpolation polynomials are calculated against real domain and not \"reference domain\":"
   ]
  },
  {
   "cell_type": "code",
   "execution_count": 29,
   "metadata": {},
   "outputs": [
    {
     "data": {
      "text/plain": [
       "2×4 Array{Float64,2}:\n",
       " -0.5   0.5  0.5  -0.5\n",
       " -0.5  -0.5  0.5   0.5"
      ]
     },
     "execution_count": 29,
     "metadata": {},
     "output_type": "execute_result"
    }
   ],
   "source": [
    "eval_dbasis!(B, dN, xi)"
   ]
  },
  {
   "cell_type": "code",
   "execution_count": 30,
   "metadata": {},
   "outputs": [
    {
     "data": {
      "text/plain": [
       "2×2 Array{Float64,2}:\n",
       " 1.0  0.0\n",
       " 0.0  1.0"
      ]
     },
     "execution_count": 30,
     "metadata": {},
     "output_type": "execute_result"
    }
   ],
   "source": [
    "J = jacobian(B, X, xi)"
   ]
  },
  {
   "cell_type": "code",
   "execution_count": 31,
   "metadata": {},
   "outputs": [
    {
     "data": {
      "text/plain": [
       "2×2 Array{Float64,2}:\n",
       " 1.5  0.5\n",
       " 1.0  2.0"
      ]
     },
     "execution_count": 31,
     "metadata": {},
     "output_type": "execute_result"
    }
   ],
   "source": [
    "u = ([0.0, 0.0], [1.0, -1.0], [2.0, 3.0], [0.0, 0.0])\n",
    "grad(B, u, X, xi)"
   ]
  },
  {
   "cell_type": "markdown",
   "metadata": {},
   "source": [
    "Shape functions can be defined manually and calculate partial derivatives automatically. C1-continuous Hermite shape functions can be defined as:"
   ]
  },
  {
   "cell_type": "code",
   "execution_count": 32,
   "metadata": {
    "collapsed": true
   },
   "outputs": [],
   "source": [
    "code = create_basis(\n",
    "    :C1Hermite,\n",
    "    \"C1-continuous Hermite shape functions\",\n",
    "    (\n",
    "        (0.0,),\n",
    "        (0.0,),\n",
    "        (1.0,),\n",
    "        (1.0,)\n",
    "    ),\n",
    "    (\n",
    "        \"2*u^3 - 3*u^2 + 1\",\n",
    "        \"u^3 - 2*u^2 + u\",\n",
    "        \"-2*u^3 + 3*u^2\",\n",
    "        \"u^3 - u^2\"\n",
    "    )\n",
    ")\n",
    "eval(code)"
   ]
  },
  {
   "cell_type": "code",
   "execution_count": 33,
   "metadata": {},
   "outputs": [
    {
     "data": {
      "text/plain": [
       "1×4 Array{Float64,2}:\n",
       " 1.0  0.0  0.0  0.0"
      ]
     },
     "execution_count": 33,
     "metadata": {},
     "output_type": "execute_result"
    }
   ],
   "source": [
    "B = C1Hermite()\n",
    "xi = (0.0,)\n",
    "eval_basis!(B, N, xi)"
   ]
  },
  {
   "cell_type": "code",
   "execution_count": 34,
   "metadata": {},
   "outputs": [
    {
     "data": {
      "text/plain": [
       "1×4 Array{Float64,2}:\n",
       " 0.0  1.0  0.0  0.0"
      ]
     },
     "execution_count": 34,
     "metadata": {},
     "output_type": "execute_result"
    }
   ],
   "source": [
    "dN = zeros(1, 4)\n",
    "eval_dbasis!(B, dN, xi)"
   ]
  },
  {
   "cell_type": "code",
   "execution_count": 35,
   "metadata": {},
   "outputs": [
    {
     "data": {
      "text/plain": [
       "1×4 Array{Float64,2}:\n",
       " 0.0  0.0  1.0  0.0"
      ]
     },
     "execution_count": 35,
     "metadata": {},
     "output_type": "execute_result"
    }
   ],
   "source": [
    "xi = (1.0,)\n",
    "eval_basis!(B, N, xi)"
   ]
  },
  {
   "cell_type": "code",
   "execution_count": 36,
   "metadata": {},
   "outputs": [
    {
     "data": {
      "text/plain": [
       "1×4 Array{Float64,2}:\n",
       " 0.0  0.0  0.0  1.0"
      ]
     },
     "execution_count": 36,
     "metadata": {},
     "output_type": "execute_result"
    }
   ],
   "source": [
    "eval_dbasis!(B, dN, xi)"
   ]
  },
  {
   "cell_type": "markdown",
   "metadata": {},
   "source": [
    "The last option is to build everything from scratch. For that, one must import and define following functions:\n",
    "- Base.size\n",
    "- Base.length\n",
    "- FEMBase.FEMBasis.get_reference_element_coordinates\n",
    "- FEMBase.FEMBasis.eval_basis!\n",
    "- FEMBase.FEMBasis.eval_dbasis!\n",
    "\n",
    "A simple implementation of P-hierarchical 1d-basis would then be"
   ]
  },
  {
   "cell_type": "code",
   "execution_count": 37,
   "metadata": {},
   "outputs": [
    {
     "data": {
      "text/plain": [
       "eval_dbasis! (generic function with 21 methods)"
      ]
     },
     "execution_count": 37,
     "metadata": {},
     "output_type": "execute_result"
    }
   ],
   "source": [
    "import Base: size, length\n",
    "import FEMBase: get_reference_element_coordinates,\n",
    "                eval_basis!, eval_dbasis!,\n",
    "                AbstractBasis\n",
    "\n",
    "type PSeg <: AbstractBasis\n",
    "    order :: Int\n",
    "end\n",
    "\n",
    "function PSeg()\n",
    "    return PSeg(1)\n",
    "end\n",
    "\n",
    "function length(basis::PSeg)\n",
    "    return basis.order+1\n",
    "end\n",
    "\n",
    "function size(basis::PSeg)\n",
    "    return (1, basis.order+1)\n",
    "end\n",
    "\n",
    "function get_reference_element_coordinates(basis::PSeg)\n",
    "    return ((-1.0,), (1.0,))\n",
    "end\n",
    "\n",
    "\"\"\"\n",
    "    get_legendre_polynomial(n)\n",
    "\n",
    "Return Legendgre polynomial of order `n` to inverval ξ ∈ [1, 1].\n",
    "\n",
    "Implementation uses Bonnet's recursion formula. See\n",
    "https://en.wikipedia.org/wiki/Legendre_polynomials\n",
    "\"\"\"\n",
    "function get_legendre_polynomial(n)\n",
    "    n == 0 && return xi -> 1.0\n",
    "    n == 1 && return xi -> xi\n",
    "    Pm1 = get_legendre_polynomial(n-1)\n",
    "    Pm2 = get_legendre_polynomial(n-2)\n",
    "    A(xi) = (2.0*n-1.0)*xi*Pm1(xi)\n",
    "    B(xi) = (n-1.0)*Pm2(xi)\n",
    "    return xi -> (A(xi)-B(xi))/n\n",
    "end\n",
    "\n",
    "\"\"\"\n",
    "    get_legendre_polynomial_derivative(n)\n",
    "\n",
    "Return derivative of Legendgre polynomial of order `n` to\n",
    "inverval ξ ∈  [-1, 1]\n",
    "\"\"\"\n",
    "function get_legendre_polynomial_derivative(n)\n",
    "    n == 0 && return xi -> 0.0\n",
    "    n == 1 && return xi -> 1.0\n",
    "    Pm1 = get_legendre_polynomial_derivative(n-1)\n",
    "    Pm2 = get_legendre_polynomial_derivative(n-2)\n",
    "    A(xi) = (2.0*(n-1.0)+1.0)*xi*Pm1(xi)\n",
    "    B(xi) = (n+1.0-1.0)*Pm2(xi)\n",
    "    return xi -> (A(xi)-B(xi))/(n-1.0)\n",
    "end\n",
    "\n",
    "function eval_basis!{T}(basis::PSeg, N::Matrix{T}, xi::Tuple{T})\n",
    "    n = length(basis)\n",
    "    t = xi[1]\n",
    "    N[1] = 0.5*(1-t)\n",
    "    N[2] = 0.5*(1+t)\n",
    "    n < 3 && return N\n",
    "    for i=3:n\n",
    "        j = i-1\n",
    "        P1 = get_legendre_polynomial(j)\n",
    "        P2 = get_legendre_polynomial(j-2)\n",
    "        N[i] = 1.0/sqrt(2.0*(2.0*j-1.0))*(P1(t)-P2(t))\n",
    "    end\n",
    "    return N\n",
    "end\n",
    "\n",
    "function eval_dbasis!{T}(basis::PSeg, dN::Matrix{T}, xi::Tuple{T})\n",
    "    n = length(basis)\n",
    "    t = xi[1]\n",
    "    dN[1] = -0.5\n",
    "    dN[2] = 0.5\n",
    "    n < 3 && return N\n",
    "    for i=3:n\n",
    "        j = i-1\n",
    "        P1 = get_legendre_polynomial_derivative(j)\n",
    "        P2 = get_legendre_polynomial_derivative(j-2)\n",
    "        dN[i] = 1.0/sqrt(2.0*(2.0*j-1.0))*(P1(t)-P2(t))\n",
    "    end\n",
    "    return dN\n",
    "end"
   ]
  },
  {
   "cell_type": "code",
   "execution_count": 38,
   "metadata": {},
   "outputs": [
    {
     "data": {
      "text/plain": [
       "PSeg(1)"
      ]
     },
     "execution_count": 38,
     "metadata": {},
     "output_type": "execute_result"
    }
   ],
   "source": [
    "B = PSeg()"
   ]
  },
  {
   "cell_type": "code",
   "execution_count": 39,
   "metadata": {},
   "outputs": [
    {
     "data": {
      "text/plain": [
       "1×2 Array{Float64,2}:\n",
       " 0.5  0.5"
      ]
     },
     "execution_count": 39,
     "metadata": {},
     "output_type": "execute_result"
    }
   ],
   "source": [
    "N = zeros(1, 2)\n",
    "eval_basis!(B, N, (0.0,))"
   ]
  },
  {
   "cell_type": "code",
   "execution_count": 40,
   "metadata": {},
   "outputs": [
    {
     "data": {
      "text/plain": [
       "1×3 Array{Float64,2}:\n",
       " 0.5  0.5  -0.612372"
      ]
     },
     "execution_count": 40,
     "metadata": {},
     "output_type": "execute_result"
    }
   ],
   "source": [
    "N = zeros(1, 3)\n",
    "B.order = 2\n",
    "eval_basis!(B, N, (0.0,))"
   ]
  },
  {
   "cell_type": "code",
   "execution_count": 41,
   "metadata": {},
   "outputs": [],
   "source": [
    "using PyPlot\n",
    "B.order = 6\n",
    "N = zeros(1, length(B))\n",
    "n = 50\n",
    "xi = linspace(-1, 1, n)\n",
    "NN = zeros(n, length(B))\n",
    "for i=1:n\n",
    "    eval_basis!(B, N, (xi[i],))\n",
    "    NN[i,:] = N[:]\n",
    "end"
   ]
  },
  {
   "cell_type": "code",
   "execution_count": 42,
   "metadata": {},
   "outputs": [
    {
     "data": {
      "image/png": "[encoded data removed]",
      "text/plain": [
       "PyPlot.Figure(PyObject <matplotlib.figure.Figure object at 0x00000000334AE518>)"
      ]
     },
     "metadata": {},
     "output_type": "display_data"
    }
   ],
   "source": [
    "plot(NN)\n",
    "title(\"Hierarchical shape functions to order 6\");"
   ]
  }
 ],
 "metadata": {
  "kernelspec": {
   "display_name": "Julia 0.6.2",
   "language": "julia",
   "name": "julia-0.6"
  },
  "language_info": {
   "file_extension": ".jl",
   "mimetype": "application/julia",
   "name": "julia",
   "version": "0.6.2"
  }
 },
 "nbformat": 4,
 "nbformat_minor": 2
}
